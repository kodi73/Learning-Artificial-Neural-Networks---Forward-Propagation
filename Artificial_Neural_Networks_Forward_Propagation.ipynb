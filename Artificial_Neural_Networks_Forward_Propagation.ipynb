{
  "nbformat": 4,
  "nbformat_minor": 0,
  "metadata": {
    "colab": {
      "provenance": [],
      "authorship_tag": "ABX9TyOIcgymcZlp42+WLYHHPp4t",
      "include_colab_link": true
    },
    "kernelspec": {
      "name": "python3",
      "display_name": "Python 3"
    },
    "language_info": {
      "name": "python"
    }
  },
  "cells": [
    {
      "cell_type": "markdown",
      "metadata": {
        "id": "view-in-github",
        "colab_type": "text"
      },
      "source": [
        "<a href=\"https://colab.research.google.com/github/kodi73/Learning-Artificial-Neural-Networks---Forward-Propagation/blob/main/Artificial_Neural_Networks_Forward_Propagation.ipynb\" target=\"_parent\"><img src=\"https://colab.research.google.com/assets/colab-badge.svg\" alt=\"Open In Colab\"/></a>"
      ]
    },
    {
      "cell_type": "code",
      "execution_count": 1,
      "metadata": {
        "colab": {
          "base_uri": "https://localhost:8080/",
          "height": 412
        },
        "id": "dKQJl8LsfDLt",
        "outputId": "179cba0d-f0a0-407d-b1cc-f221606dfc8c"
      },
      "outputs": [
        {
          "output_type": "stream",
          "name": "stdout",
          "text": [
            "Collecting numpy==1.26.4\n",
            "  Downloading numpy-1.26.4-cp312-cp312-manylinux_2_17_x86_64.manylinux2014_x86_64.whl.metadata (61 kB)\n",
            "\u001b[2K     \u001b[90m━━━━━━━━━━━━━━━━━━━━━━━━━━━━━━━━━━━━━━━━\u001b[0m \u001b[32m61.0/61.0 kB\u001b[0m \u001b[31m1.8 MB/s\u001b[0m eta \u001b[36m0:00:00\u001b[0m\n",
            "\u001b[?25hDownloading numpy-1.26.4-cp312-cp312-manylinux_2_17_x86_64.manylinux2014_x86_64.whl (18.0 MB)\n",
            "\u001b[2K   \u001b[90m━━━━━━━━━━━━━━━━━━━━━━━━━━━━━━━━━━━━━━━━\u001b[0m \u001b[32m18.0/18.0 MB\u001b[0m \u001b[31m50.5 MB/s\u001b[0m eta \u001b[36m0:00:00\u001b[0m\n",
            "\u001b[?25hInstalling collected packages: numpy\n",
            "  Attempting uninstall: numpy\n",
            "    Found existing installation: numpy 2.0.2\n",
            "    Uninstalling numpy-2.0.2:\n",
            "      Successfully uninstalled numpy-2.0.2\n",
            "\u001b[31mERROR: pip's dependency resolver does not currently take into account all the packages that are installed. This behaviour is the source of the following dependency conflicts.\n",
            "opencv-contrib-python 4.12.0.88 requires numpy<2.3.0,>=2; python_version >= \"3.9\", but you have numpy 1.26.4 which is incompatible.\n",
            "opencv-python-headless 4.12.0.88 requires numpy<2.3.0,>=2; python_version >= \"3.9\", but you have numpy 1.26.4 which is incompatible.\n",
            "opencv-python 4.12.0.88 requires numpy<2.3.0,>=2; python_version >= \"3.9\", but you have numpy 1.26.4 which is incompatible.\n",
            "thinc 8.3.6 requires numpy<3.0.0,>=2.0.0, but you have numpy 1.26.4 which is incompatible.\u001b[0m\u001b[31m\n",
            "\u001b[0mSuccessfully installed numpy-1.26.4\n"
          ]
        },
        {
          "output_type": "display_data",
          "data": {
            "application/vnd.colab-display-data+json": {
              "pip_warning": {
                "packages": [
                  "numpy"
                ]
              },
              "id": "89d7d02d5b2747e5984c6c988d3c310e"
            }
          },
          "metadata": {}
        }
      ],
      "source": [
        "!pip install numpy==1.26.4"
      ]
    },
    {
      "cell_type": "code",
      "source": [
        "import numpy as np\n",
        "weights = np.around(np.random.uniform(size = 6), decimals = 2)\n",
        "biases = np.around(np.random.uniform(size = 3), decimals = 2)"
      ],
      "metadata": {
        "id": "TvDQcgwafQE4"
      },
      "execution_count": 1,
      "outputs": []
    },
    {
      "cell_type": "code",
      "source": [
        "print(weights)\n",
        "print(biases)"
      ],
      "metadata": {
        "colab": {
          "base_uri": "https://localhost:8080/"
        },
        "id": "F5i4-OipfpMR",
        "outputId": "22e4cc84-1982-4ce5-8756-3e0abaf91066"
      },
      "execution_count": 2,
      "outputs": [
        {
          "output_type": "stream",
          "name": "stdout",
          "text": [
            "[0.18 0.28 0.76 0.88 0.08 0.16]\n",
            "[0.32 0.99 0.07]\n"
          ]
        }
      ]
    },
    {
      "cell_type": "code",
      "source": [
        "x1 = 0.5"
      ],
      "metadata": {
        "id": "cEMnscpCfuYO"
      },
      "execution_count": 3,
      "outputs": []
    },
    {
      "cell_type": "code",
      "source": [
        "x2 = 0.85"
      ],
      "metadata": {
        "id": "CC_j3ArufyDP"
      },
      "execution_count": 4,
      "outputs": []
    },
    {
      "cell_type": "code",
      "source": [
        "print('x1 is {} and x2 is {}'.format(x1, x2))"
      ],
      "metadata": {
        "colab": {
          "base_uri": "https://localhost:8080/"
        },
        "id": "3OBbLA-rf0ev",
        "outputId": "dc906fd5-58a2-4ce6-dac0-a6f6b97aac14"
      },
      "execution_count": 5,
      "outputs": [
        {
          "output_type": "stream",
          "name": "stdout",
          "text": [
            "x1 is 0.5 and x2 is 0.85\n"
          ]
        }
      ]
    },
    {
      "cell_type": "code",
      "source": [
        "z11 = x1 * weights[0] + x2 * weights[1] + biases[0]"
      ],
      "metadata": {
        "id": "4r_TyHXJgE-o"
      },
      "execution_count": 9,
      "outputs": []
    },
    {
      "cell_type": "code",
      "source": [
        "print('The weighted sum at 1st hidden layer is {}'.format(z11))"
      ],
      "metadata": {
        "colab": {
          "base_uri": "https://localhost:8080/"
        },
        "id": "4JKM1C6GgQPv",
        "outputId": "da302c62-640c-4e60-eea9-d95e62432ae9"
      },
      "execution_count": 10,
      "outputs": [
        {
          "output_type": "stream",
          "name": "stdout",
          "text": [
            "The weighted sum at 1st hidden layer is 0.648\n"
          ]
        }
      ]
    },
    {
      "cell_type": "code",
      "source": [
        "z12 = x1 * weights[2] + x2 * weights[3] + biases[1]"
      ],
      "metadata": {
        "id": "fMjoem5mgbe4"
      },
      "execution_count": 8,
      "outputs": []
    },
    {
      "cell_type": "code",
      "source": [
        "print('The weighted sum at 2nd hidden layer is {}'.format(z12))"
      ],
      "metadata": {
        "colab": {
          "base_uri": "https://localhost:8080/"
        },
        "id": "gDx9JneYguXQ",
        "outputId": "dde8411f-3abb-4724-d89e-ba2180775a9a"
      },
      "execution_count": 11,
      "outputs": [
        {
          "output_type": "stream",
          "name": "stdout",
          "text": [
            "The weighted sum at 2nd hidden layer is 2.1180000000000003\n"
          ]
        }
      ]
    },
    {
      "cell_type": "code",
      "source": [
        "a11 = 1.0 / (1.0 + np.exp(-z11))\n",
        "print('The activation of the 1st hidden node is {}'.format(a11))"
      ],
      "metadata": {
        "colab": {
          "base_uri": "https://localhost:8080/"
        },
        "id": "c9vHhlnjg4uW",
        "outputId": "d410bc16-7955-4909-aa41-bbe873860183"
      },
      "execution_count": 13,
      "outputs": [
        {
          "output_type": "stream",
          "name": "stdout",
          "text": [
            "The activation of the 1st hidden node is 0.6565596258223505\n"
          ]
        }
      ]
    },
    {
      "cell_type": "code",
      "source": [
        "a12 = 1.0 / (1.0 + np.exp(-z12))\n",
        "print('The activation of the 2nd hidden node is {}'.format(a12))"
      ],
      "metadata": {
        "colab": {
          "base_uri": "https://localhost:8080/"
        },
        "id": "RKx_2Re_hIFP",
        "outputId": "b7719e3f-3c55-43c0-a8ee-5ba856ef7170"
      },
      "execution_count": 14,
      "outputs": [
        {
          "output_type": "stream",
          "name": "stdout",
          "text": [
            "The activation of the 2nd hidden node is 0.8926404129593664\n"
          ]
        }
      ]
    },
    {
      "cell_type": "code",
      "source": [
        "z2 = a11 * weights[4] + a12 * weights[5] + biases[2]\n",
        "print('The weighted sum at the output node is {}'.format(z2))"
      ],
      "metadata": {
        "colab": {
          "base_uri": "https://localhost:8080/"
        },
        "id": "1nLOGg6Zhi0X",
        "outputId": "a1fb388a-8ae9-4e68-d45c-7db6f00e0f88"
      },
      "execution_count": 16,
      "outputs": [
        {
          "output_type": "stream",
          "name": "stdout",
          "text": [
            "The weighted sum at the output node is 0.2653472361392867\n"
          ]
        }
      ]
    },
    {
      "cell_type": "code",
      "source": [
        "a2 = 1.0 / (1.0 + np.exp(-z2))\n",
        "print('The output of the network for x1 = 0.5 and x2 = 0.85 is {}'.format(np.around(a2, decimals = 4)))"
      ],
      "metadata": {
        "colab": {
          "base_uri": "https://localhost:8080/"
        },
        "id": "tkbnqiagh4-u",
        "outputId": "d6b53d12-d0fd-4a5d-e881-1c7ddba36cc1"
      },
      "execution_count": 19,
      "outputs": [
        {
          "output_type": "stream",
          "name": "stdout",
          "text": [
            "The output of the network for x1 = 0.5 and x2 = 0.85 is 0.566\n"
          ]
        }
      ]
    },
    {
      "cell_type": "markdown",
      "source": [
        "This was inefficient. Now we will build a neural network."
      ],
      "metadata": {
        "id": "ABWAjhrdi09w"
      }
    },
    {
      "cell_type": "code",
      "source": [
        "n = 2\n",
        "numHiddenLayers = 2\n",
        "m = [2, 2]\n",
        "numOutputNodes = 1"
      ],
      "metadata": {
        "id": "7gW6UBF8iNaA"
      },
      "execution_count": 20,
      "outputs": []
    },
    {
      "cell_type": "code",
      "source": [
        "import numpy as np\n",
        "numPrevNodes = n\n",
        "\n",
        "network = {}\n",
        "\n",
        "for layer in range(numHiddenLayers + 1):\n",
        "  if layer == numHiddenLayers:\n",
        "    layer_name = \"output\"\n",
        "    numNodes = numOutputNodes\n",
        "  else:\n",
        "    layer_name = \"layer_{}\".format(layer + 1)\n",
        "    numNodes = m[layer]\n",
        "\n",
        "  network[layer_name] = {}\n",
        "  for node in range(numNodes):\n",
        "    node_name = \"node_{}\".format(node + 1)\n",
        "    network[layer_name][node_name] = {\n",
        "        'weights': np.around(np.random.uniform(size = numPrevNodes), decimals = 2),\n",
        "        'bias': np.around(np.random.uniform(size = 1), decimals = 2)\n",
        "    }\n",
        "\n",
        "  numPrevNodes = numNodes\n",
        "\n",
        "print(network)"
      ],
      "metadata": {
        "colab": {
          "base_uri": "https://localhost:8080/"
        },
        "id": "BRfzx7upjJYv",
        "outputId": "0644eaf6-35c6-4922-8289-676a7a202fbe"
      },
      "execution_count": 21,
      "outputs": [
        {
          "output_type": "stream",
          "name": "stdout",
          "text": [
            "{'layer_1': {'node_1': {'weights': array([0.93, 0.99]), 'bias': array([0.24])}, 'node_2': {'weights': array([0.52, 0.95]), 'bias': array([0.3])}}, 'layer_2': {'node_1': {'weights': array([0.47, 0.89]), 'bias': array([0.97])}, 'node_2': {'weights': array([0.57, 0.18]), 'bias': array([0.44])}}, 'output': {'node_1': {'weights': array([0.06, 0.47]), 'bias': array([0.72])}}}\n"
          ]
        }
      ]
    },
    {
      "cell_type": "code",
      "source": [
        "import numpy as np\n",
        "\n",
        "def initialize_network(num_inputs, num_hidden_layers, num_nodes_hidden, num_nodes_output):\n",
        "  num_nodes_prev_layer = num_inputs\n",
        "  network = {}\n",
        "\n",
        "  for layer in range(num_hidden_layers + 1):\n",
        "    if layer == num_hidden_layers:\n",
        "      layer_name = \"output\"\n",
        "      num_nodes = num_nodes_output\n",
        "    else:\n",
        "      layer_name = \"layer_{}\".format(layer + 1)\n",
        "      num_nodes = num_nodes_hidden[layer]\n",
        "\n",
        "    network[layer_name] = {}\n",
        "    for node in range(num_nodes):\n",
        "      node_name = \"node_{}\".format(node + 1)\n",
        "      network[layer_name][node_name] = {\n",
        "          'weights': np.around(np.random.uniform(size = num_nodes_prev_layer), decimals = 2),\n",
        "          'bias': np.around(np.random.uniform(size = 1), decimals = 2),\n",
        "      }\n",
        "\n",
        "    num_nodes_prev_layer = num_nodes\n",
        "\n",
        "  return network"
      ],
      "metadata": {
        "id": "VaulJ8NEoLqp"
      },
      "execution_count": 24,
      "outputs": []
    },
    {
      "cell_type": "code",
      "source": [
        "small_network = initialize_network(5, 3, [3, 2, 3], 1)\n",
        "print(small_network)"
      ],
      "metadata": {
        "colab": {
          "base_uri": "https://localhost:8080/"
        },
        "id": "5kwwGZ3zqCzb",
        "outputId": "6f2031a2-c8c3-40af-cddf-95b330028f99"
      },
      "execution_count": 26,
      "outputs": [
        {
          "output_type": "stream",
          "name": "stdout",
          "text": [
            "{'layer_1': {'node_1': {'weights': array([0.66, 0.03, 0.75, 0.56, 0.11]), 'bias': array([0.88])}, 'node_2': {'weights': array([0.91, 0.06, 0.31, 0.85, 0.62]), 'bias': array([0.06])}, 'node_3': {'weights': array([0.6 , 0.13, 0.09, 0.44, 0.42]), 'bias': array([0.5])}}, 'layer_2': {'node_1': {'weights': array([0.26, 0.55, 0.86]), 'bias': array([0.19])}, 'node_2': {'weights': array([0.51, 0.61, 0.57]), 'bias': array([0.92])}}, 'layer_3': {'node_1': {'weights': array([0.38, 0.07]), 'bias': array([0.98])}, 'node_2': {'weights': array([0.42, 0.89]), 'bias': array([0.69])}, 'node_3': {'weights': array([0.91, 0.93]), 'bias': array([0.9])}}, 'output': {'node_1': {'weights': array([0.5 , 0.46, 0.62]), 'bias': array([0.6])}}}\n"
          ]
        }
      ]
    },
    {
      "cell_type": "code",
      "source": [
        "def compute_weighted_sum(inputs, weights, bias):\n",
        "  return np.sum(inputs * weights) + bias"
      ],
      "metadata": {
        "id": "inbNno0IqDRI"
      },
      "execution_count": 27,
      "outputs": []
    },
    {
      "cell_type": "code",
      "source": [
        "from random import seed\n",
        "import numpy as np\n",
        "\n",
        "np.random.seed(12)\n",
        "inputs = np.around(np.random.uniform(size = 5), decimals = 2)\n",
        "\n",
        "print('The inputs to the network are {}'.format(inputs))"
      ],
      "metadata": {
        "colab": {
          "base_uri": "https://localhost:8080/"
        },
        "id": "Kp9Xv0klqapT",
        "outputId": "54331268-d2d4-414b-db40-61c04ab0a80d"
      },
      "execution_count": 29,
      "outputs": [
        {
          "output_type": "stream",
          "name": "stdout",
          "text": [
            "The inputs to the network are [0.15 0.74 0.26 0.53 0.01]\n"
          ]
        }
      ]
    },
    {
      "cell_type": "code",
      "source": [
        "node_weights = small_network['layer_1']['node_1']['weights']\n",
        "node_bias = small_network['layer_1']['node_1']['bias']\n",
        "print(node_weights)\n",
        "print(node_bias)\n",
        "\n",
        "weighted_sum = compute_weighted_sum(inputs, node_weights, node_bias)\n",
        "print('Weighted sum at 1st hidden layer node is {}'.format(np.around(weighted_sum[0], decimals=4)))"
      ],
      "metadata": {
        "colab": {
          "base_uri": "https://localhost:8080/"
        },
        "id": "3ejVonhsq3xa",
        "outputId": "da7bff85-69db-44c4-efa7-7ad95fef0657"
      },
      "execution_count": 30,
      "outputs": [
        {
          "output_type": "stream",
          "name": "stdout",
          "text": [
            "[0.66 0.03 0.75 0.56 0.11]\n",
            "[0.88]\n",
            "Weighted sum at 1st hidden layer node is 1.4941\n"
          ]
        }
      ]
    },
    {
      "cell_type": "code",
      "source": [
        "def node_activation(weighted_sum):\n",
        "    return 1.0 / (1.0 + np.exp(-1 * weighted_sum))"
      ],
      "metadata": {
        "id": "bYMzGsEIrwe6"
      },
      "execution_count": 31,
      "outputs": []
    },
    {
      "cell_type": "code",
      "source": [
        "node_output  = node_activation(compute_weighted_sum(inputs, node_weights, node_bias))\n",
        "print('The output of the first node in the hidden layer is {}'.format(np.around(node_output[0], decimals=4)))"
      ],
      "metadata": {
        "colab": {
          "base_uri": "https://localhost:8080/"
        },
        "id": "8tFkjrxpr5gK",
        "outputId": "86115e8d-429c-40a5-9f5f-60fb927e56df"
      },
      "execution_count": 32,
      "outputs": [
        {
          "output_type": "stream",
          "name": "stdout",
          "text": [
            "The output of the first node in the hidden layer is 0.8167\n"
          ]
        }
      ]
    },
    {
      "cell_type": "code",
      "source": [
        "def forward_propagate(network, inputs):\n",
        "\n",
        "    layer_inputs = list(inputs)\n",
        "\n",
        "    for layer in network:\n",
        "\n",
        "        layer_data = network[layer]\n",
        "\n",
        "        layer_outputs = []\n",
        "        for layer_node in layer_data:\n",
        "\n",
        "            node_data = layer_data[layer_node]\n",
        "\n",
        "            node_output = node_activation(compute_weighted_sum(layer_inputs, node_data['weights'], node_data['bias']))\n",
        "            layer_outputs.append(np.around(node_output[0], decimals=4))\n",
        "\n",
        "        if layer != 'output':\n",
        "            print('The outputs of the nodes in hidden layer number {} is {}'.format(layer.split('_')[1], layer_outputs))\n",
        "\n",
        "        layer_inputs = layer_outputs\n",
        "\n",
        "    network_predictions = layer_outputs\n",
        "    return network_predictions"
      ],
      "metadata": {
        "id": "ixwKPljtsC1K"
      },
      "execution_count": 33,
      "outputs": []
    },
    {
      "cell_type": "code",
      "source": [
        "predictions = forward_propagate(small_network, inputs)\n",
        "print('The predicted value by the network for the given input is {}'.format(np.around(predictions[0], decimals = 4)))"
      ],
      "metadata": {
        "colab": {
          "base_uri": "https://localhost:8080/"
        },
        "id": "MbXsFl8QsY5j",
        "outputId": "0a936235-9012-4107-e8d1-4887671615a2"
      },
      "execution_count": 35,
      "outputs": [
        {
          "output_type": "stream",
          "name": "stdout",
          "text": [
            "The outputs of the nodes in hidden layer number 1 is [0.8167, 0.6853, 0.7205]\n",
            "The outputs of the nodes in hidden layer number 2 is [0.802, 0.8971]\n",
            "The outputs of the nodes in hidden layer number 3 is [0.7937, 0.8612, 0.9216]\n",
            "The predicted value by the network for the given input is 0.877\n"
          ]
        }
      ]
    },
    {
      "cell_type": "code",
      "source": [
        "my_network = initialize_network(5, 3, [2, 3, 2], 3)"
      ],
      "metadata": {
        "id": "UJWLbFvxswfy"
      },
      "execution_count": 36,
      "outputs": []
    },
    {
      "cell_type": "code",
      "source": [
        "inputs = np.around(np.random.uniform(size=5), decimals=2)"
      ],
      "metadata": {
        "id": "4zedZcIhtCDZ"
      },
      "execution_count": 37,
      "outputs": []
    },
    {
      "cell_type": "code",
      "source": [
        "predictions = forward_propagate(my_network, inputs)\n",
        "print('The predicted values by the network for the given input are {}'.format(predictions))"
      ],
      "metadata": {
        "colab": {
          "base_uri": "https://localhost:8080/"
        },
        "id": "FXcqBG7ntDyB",
        "outputId": "df4c8259-ff4e-4b9e-cfa6-63a98d4ff9e4"
      },
      "execution_count": 38,
      "outputs": [
        {
          "output_type": "stream",
          "name": "stdout",
          "text": [
            "The outputs of the nodes in hidden layer number 1 is [0.8857, 0.8889]\n",
            "The outputs of the nodes in hidden layer number 2 is [0.7822, 0.6965, 0.7411]\n",
            "The outputs of the nodes in hidden layer number 3 is [0.868, 0.881]\n",
            "The predicted values by the network for the given input are [0.8952, 0.8222, 0.8035]\n"
          ]
        }
      ]
    },
    {
      "cell_type": "code",
      "source": [],
      "metadata": {
        "id": "4leXAulgtF0Q"
      },
      "execution_count": null,
      "outputs": []
    }
  ]
}